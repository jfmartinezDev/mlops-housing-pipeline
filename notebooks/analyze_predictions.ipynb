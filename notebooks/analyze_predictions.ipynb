{
 "cells": [
  {
   "cell_type": "markdown",
   "id": "f69b12fa",
   "metadata": {},
   "source": [
    "# Exploratory Analysis of Predictions\n",
    "This notebook performs initial statistical exploration of the predictions stored in `predictions_log.csv`. It includes descriptive statistics, distribution plots, and sets up the foundation for drift detection."
   ]
  },
  {
   "cell_type": "code",
   "execution_count": null,
   "id": "6c0f3f8f",
   "metadata": {},
   "outputs": [],
   "source": [
    "import pandas as pd\n",
    "import matplotlib.pyplot as plt\n",
    "import seaborn as sns\n",
    "\n",
    "# Load predictions log\n",
    "df = pd.read_csv(\"data/predictions_log.csv\")\n",
    "df.head()"
   ]
  },
  {
   "cell_type": "code",
   "execution_count": null,
   "id": "7a2d7f92",
   "metadata": {},
   "outputs": [],
   "source": [
    "# Basic info and descriptive statistics\n",
    "df.info()\n",
    "df.describe()"
   ]
  },
  {
   "cell_type": "code",
   "execution_count": null,
   "id": "de5b64c4",
   "metadata": {},
   "outputs": [],
   "source": [
    "# Plot the distribution of the predicted values\n",
    "plt.figure(figsize=(8, 5))\n",
    "sns.histplot(df['prediction'], kde=True, bins=30)\n",
    "plt.title(\"Distribution of Predicted Housing Prices\")\n",
    "plt.xlabel(\"Price\")\n",
    "plt.ylabel(\"Frequency\")\n",
    "plt.show()"
   ]
  },
  {
   "cell_type": "code",
   "execution_count": null,
   "id": "6ac8e673",
   "metadata": {},
   "outputs": [],
   "source": [
    "# Plot the distribution of a key input feature (e.g., RM - average number of rooms)\n",
    "plt.figure(figsize=(8, 5))\n",
    "sns.histplot(df['rm'], kde=True, bins=30)\n",
    "plt.title(\"Distribution of Feature: RM (average number of rooms)\")\n",
    "plt.xlabel(\"RM\")\n",
    "plt.ylabel(\"Frequency\")\n",
    "plt.show()"
   ]
  }
 ],
 "metadata": {
  "language_info": {
   "name": "python"
  }
 },
 "nbformat": 4,
 "nbformat_minor": 5
}
